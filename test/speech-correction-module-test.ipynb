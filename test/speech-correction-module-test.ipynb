{
 "cells": [
  {
   "metadata": {},
   "cell_type": "markdown",
   "source": "# speech-correction 모듈 테스트",
   "id": "a5e6766681e9156e"
  },
  {
   "metadata": {},
   "cell_type": "markdown",
   "source": "## 패키지 import 사전 설정",
   "id": "cf99df159d4e9c66"
  },
  {
   "metadata": {},
   "cell_type": "code",
   "source": [
    "import os\n",
    "import sys\n",
    "\n",
    "module_path = os.path.abspath(os.path.join('..'))\n",
    "if module_path not in sys.path:\n",
    "    sys.path.append(module_path)\n",
    "\n",
    "rvc_path = os.path.abspath(os.path.join('../Retrieval-based-Voice-Conversion-WebUI-main'))\n",
    "if rvc_path not in sys.path:\n",
    "    sys.path.append(rvc_path)"
   ],
   "id": "initial_id",
   "outputs": [],
   "execution_count": null
  },
  {
   "metadata": {},
   "cell_type": "code",
   "source": [
    "# ToDo: 의존 패키지 목록 작성 (미완료)\n",
    "# STT 의존 패키지\n",
    "%pip install openai-whisper\n",
    "%pip install torch torchvision torchaudio\n",
    "# ffmpeg 설치 필요\n",
    "\n",
    "# Correction\n",
    "%pip install python-dotenv"
   ],
   "id": "f539c73534af6d34",
   "outputs": [],
   "execution_count": null
  },
  {
   "metadata": {},
   "cell_type": "markdown",
   "source": "### 공통 상수/변수 설정",
   "id": "ce76c30ac567f816"
  },
  {
   "metadata": {},
   "cell_type": "code",
   "source": [
    "# STT\n",
    "ORIGIN_VOICE_PATH = \"demo-file/test.wav\"\n",
    "ORIGIN_SCRIPT_TXT_PATH = \"demo-file/origin-script.txt\"\n",
    "origin_script_str = \"TTS로 변환된 스크립트\"\n",
    "\n",
    "# Correction\n",
    "import os\n",
    "from dotenv import load_dotenv\n",
    "\n",
    "load_dotenv(verbose=True)\n",
    "OPENAI_API_KEY = os.getenv(\"OPENAI_API_KEY\")\n",
    "CORRECTED_SCRIPT_TXT_PATH = \"demo-file/corrected-script.txt\"\n",
    "corrected_script_str = \"chatGPT로 교정된 스크립트\"\n",
    "\n",
    "# TTS\n",
    "MODEL_VOICE_PATH = \"demo-file/speaker_voice.wav\"\n",
    "BASIC_VOICE_PATH = \"demo-file/basic-voice.wav\"\n",
    "\n",
    "# Voice\n",
    "CHANGED_VOICE_PATH = \"demo-file/changed-voice.wav\""
   ],
   "id": "7d875766236b805e",
   "outputs": [],
   "execution_count": null
  },
  {
   "metadata": {},
   "cell_type": "markdown",
   "source": [
    "---\n",
    "## STT 모듈 테스트"
   ],
   "id": "4a9708930c22074f"
  },
  {
   "metadata": {},
   "cell_type": "code",
   "source": [
    "# 모듈 import 및 객체 생성\n",
    "from speechcorrection import stt\n",
    "\n",
    "stt = stt.ScriptGenerator()"
   ],
   "id": "35e4dbb8df47d2c1",
   "outputs": [],
   "execution_count": null
  },
  {
   "metadata": {},
   "cell_type": "code",
   "source": [
    "# 실행\n",
    "stt.origin_voice_path = ORIGIN_VOICE_PATH\n",
    "stt.execute()\n",
    "\n",
    "origin_script_str = stt.origin_script\n",
    "print(stt.origin_script)\n",
    "\n",
    "with open(ORIGIN_SCRIPT_TXT_PATH, \"w\") as file:\n",
    "    file.write(origin_script_str)"
   ],
   "id": "2126513f809b0c9b",
   "outputs": [],
   "execution_count": null
  },
  {
   "metadata": {},
   "cell_type": "markdown",
   "source": [
    "---\n",
    "## Correction 모듈 테스트"
   ],
   "id": "405b32cd36b180c5"
  },
  {
   "metadata": {},
   "cell_type": "code",
   "source": [
    "# 모듈 import 및 객체 생성\n",
    "from speechcorrection import correction\n",
    "\n",
    "correction = correction.ScriptCorrection()\n",
    "correction.api_key = OPENAI_API_KEY"
   ],
   "id": "171d5ccc22fe48a3",
   "outputs": [],
   "execution_count": null
  },
  {
   "metadata": {},
   "cell_type": "code",
   "source": [
    "# 파일로 원본 스크립트 가져오기 (위에서 STT 동작했으면 실행 생략 가능)\n",
    "with open(ORIGIN_SCRIPT_TXT_PATH, \"r\") as file:\n",
    "    origin_script_str = file.read()\n",
    "print(origin_script_str)"
   ],
   "id": "3ac2e646bd529215",
   "outputs": [],
   "execution_count": null
  },
  {
   "metadata": {},
   "cell_type": "code",
   "source": [
    "# 실행\n",
    "correction.origin_script = origin_script_str\n",
    "correction.execute()\n",
    "\n",
    "corrected_script_str = correction.corrected_script\n",
    "print(corrected_script_str)\n",
    "\n",
    "with open(CORRECTED_SCRIPT_TXT_PATH, \"w\") as file:\n",
    "    file.write(corrected_script_str)"
   ],
   "id": "a2e72eb2e7149c09",
   "outputs": [],
   "execution_count": null
  },
  {
   "metadata": {},
   "cell_type": "markdown",
   "source": [
    "---\n",
    "## TTS 모듈 테스트"
   ],
   "id": "e7e41fd98e0bfede"
  },
  {
   "metadata": {},
   "cell_type": "code",
   "source": [
    "# 모듈 import 및 객체 생성\n",
    "from speechcorrection import tts\n",
    "\n",
    "tts = tts.VoiceGenerator()"
   ],
   "id": "daa9a60c116733a4",
   "outputs": [],
   "execution_count": null
  },
  {
   "metadata": {},
   "cell_type": "code",
   "source": [
    "# 파일로 교정된 스크립트 가져오기 (위에서 Correction 동작했으면 실행 생략 가능)\n",
    "with open(CORRECTED_SCRIPT_TXT_PATH, \"r\") as file:\n",
    "    corrected_script_str = file.read()\n",
    "print(corrected_script_str)"
   ],
   "id": "c8c2d695c514011e",
   "outputs": [],
   "execution_count": null
  },
  {
   "metadata": {},
   "cell_type": "code",
   "source": [
    "tts.corrected_script = corrected_script_str\n",
    "tts.basic_voice_path = MODEL_VOICE_PATH\n",
    "tts.output_wav_path = BASIC_VOICE_PATH\n",
    "\n",
    "tts.execute()\n"
   ],
   "id": "70cc7f150add8eb3",
   "outputs": [],
   "execution_count": null
  },
  {
   "metadata": {},
   "cell_type": "markdown",
   "source": [
    "\n",
    "[speaker_voice.wav](./demo-file/speaker_voice.wav)"
   ],
   "id": "e456c9b0d317673d"
  },
  {
   "metadata": {},
   "cell_type": "markdown",
   "source": [
    "---\n",
    "# Voice 모듈 테스트"
   ],
   "id": "ee1f149831610775"
  },
  {
   "metadata": {},
   "cell_type": "code",
   "source": [
    "from speechcorrection import voice\n",
    "from configs.config import Config\n",
    "\n",
    "config = Config()\n",
    "\n",
    "voice_changer = voice.VoiceChanger(config)\n",
    "voice_changer.basic_voice_path = \"rvc_test_origin.wav\"\n",
    "now_dir = os.getcwd()\n",
    "voice_changer.changed_voice_path = os.path.join(\n",
    "    now_dir, \"assets\", \"vc_output\", \"vc_output.wav\"\n",
    ")\n",
    "voice_changer.load_vc_model = \"IU\"\n",
    "\n",
    "voice_changer.execute()"
   ],
   "id": "8048529634b2d3f",
   "outputs": [],
   "execution_count": null
  }
 ],
 "metadata": {
  "kernelspec": {
   "display_name": "Python 3",
   "language": "python",
   "name": "python3"
  },
  "language_info": {
   "codemirror_mode": {
    "name": "ipython",
    "version": 2
   },
   "file_extension": ".py",
   "mimetype": "text/x-python",
   "name": "python",
   "nbconvert_exporter": "python",
   "pygments_lexer": "ipython2",
   "version": "2.7.6"
  }
 },
 "nbformat": 4,
 "nbformat_minor": 5
}
